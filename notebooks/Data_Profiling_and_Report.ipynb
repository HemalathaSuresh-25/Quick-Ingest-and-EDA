{
  "nbformat": 4,
  "nbformat_minor": 0,
  "metadata": {
    "colab": {
      "provenance": []
    },
    "kernelspec": {
      "name": "python3",
      "display_name": "Python 3"
    },
    "language_info": {
      "name": "python"
    }
  },
  "cells": [
    {
      "cell_type": "markdown",
      "source": [
        "# **Data Profiling and Quality Report**\n",
        "\n",
        "\n",
        "---\n",
        "\n"
      ],
      "metadata": {
        "id": "c1fYEiKBB64v"
      }
    },
    {
      "cell_type": "markdown",
      "source": [
        "####1. Import Libraries: Load Pandas and NumPy for data handling.\n",
        "\n",
        "####2. Load Dataset: Read CSV into df (low_memory=False for large files).\n",
        "\n",
        "####3. Preview Data: df.head() shows the first few rows.\n",
        "\n",
        "####4. Dataset Size: df.shape gives rows and columns.\n",
        "\n",
        "####5. Column Info: df.dtypes shows data types.\n",
        "\n",
        "####6. Missing Values: df.isnull().sum() counts NaNs per column.\n",
        "\n",
        "####7. Missing Data Map: df.isna() highlights where values are missing."
      ],
      "metadata": {
        "id": "rEwMDNHQ4aha"
      }
    },
    {
      "cell_type": "code",
      "execution_count": 6,
      "metadata": {
        "id": "2slP6IdIhFo_"
      },
      "outputs": [],
      "source": [
        "# Import Libraries\n",
        "import numpy as np\n",
        "import pandas as pd"
      ]
    },
    {
      "cell_type": "code",
      "source": [
        "# Load your log file\n",
        "df = pd.read_csv(\"/content/logs_preprocessed.csv\", low_memory=False)"
      ],
      "metadata": {
        "id": "_bsLCfHNhMZN"
      },
      "execution_count": 4,
      "outputs": []
    },
    {
      "cell_type": "code",
      "source": [
        "print(df.head()) # head() => used to display first five rows in dataset"
      ],
      "metadata": {
        "colab": {
          "base_uri": "https://localhost:8080/"
        },
        "id": "y5SsjsdXjBsR",
        "outputId": "7d9ff643-8365-460a-fe10-137e7745106e"
      },
      "execution_count": 5,
      "outputs": [
        {
          "output_type": "stream",
          "name": "stdout",
          "text": [
            "     run_date dut suite                                 filename  line_number  \\\n",
            "0  2024-07-22  tc   tcp  tc_func_tcp_tfg_001_20240722-113936.log          194   \n",
            "1  2024-07-22  tc   tcp  tc_func_tcp_tfg_001_20240722-113936.log          195   \n",
            "2  2024-07-22  tc   tcp  tc_func_tcp_tfg_001_20240722-113936.log          198   \n",
            "3  2024-07-22  tc   tcp  tc_func_tcp_tfg_001_20240722-113936.log          202   \n",
            "4  2024-07-22  tc   tcp  tc_func_tcp_tfg_001_20240722-113936.log          265   \n",
            "\n",
            "                 timestamp                             test_case_id status  \\\n",
            "0  2024-07-22 11:39:38.710  tc_func_tcp_tfg_001_20240722-113936.log   PASS   \n",
            "1  2024-07-22 11:39:38.812  tc_func_tcp_tfg_001_20240722-113936.log   PASS   \n",
            "2  2024-07-22 11:39:39.123  tc_func_tcp_tfg_001_20240722-113936.log   PASS   \n",
            "3  2024-07-22 11:39:40.125  tc_func_tcp_tfg_001_20240722-113936.log   FAIL   \n",
            "4  2024-07-22 11:39:43.465  tc_func_tcp_tfg_001_20240722-113936.log   FAIL   \n",
            "\n",
            "                                           error_msg config  \\\n",
            "0                                           No Error    TCP   \n",
            "1                                           No Error    TCP   \n",
            "2                                           No Error    TCP   \n",
            "3  11:39:40.125 * Starting Cleanup procedure. Ple...    TCP   \n",
            "4  11:39:43.465 RX errors 0  dropped 0  overruns ...    TCP   \n",
            "\n",
            "                                            raw_line  os_version  \n",
            "0                        11:39:38.710 CLI: Password:  Unknown_OS  \n",
            "1                        11:39:38.812 CLI: Password:  Unknown_OS  \n",
            "2                        11:39:39.123 CLI: Password:  Unknown_OS  \n",
            "3  11:39:40.125 * Starting Cleanup procedure. Ple...  Unknown_OS  \n",
            "4  11:39:43.465 RX errors 0  dropped 0  overruns ...  Unknown_OS  \n"
          ]
        }
      ]
    },
    {
      "cell_type": "code",
      "source": [
        "print(\"Dataset Shape:\", df.shape) # Display the rows and columns\n",
        "print(\"\\nColumn Info:\") # print the statement\n",
        "print(df.dtypes) # Print the datatypes of the column"
      ],
      "metadata": {
        "colab": {
          "base_uri": "https://localhost:8080/"
        },
        "id": "g84cnHPthZI7",
        "outputId": "8f9fbe4b-5797-4df8-e27b-a35751239d34"
      },
      "execution_count": 7,
      "outputs": [
        {
          "output_type": "stream",
          "name": "stdout",
          "text": [
            "Dataset Shape: (124684, 12)\n",
            "\n",
            "Column Info:\n",
            "run_date        object\n",
            "dut             object\n",
            "suite           object\n",
            "filename        object\n",
            "line_number      int64\n",
            "timestamp       object\n",
            "test_case_id    object\n",
            "status          object\n",
            "error_msg       object\n",
            "config          object\n",
            "raw_line        object\n",
            "os_version      object\n",
            "dtype: object\n"
          ]
        }
      ]
    },
    {
      "cell_type": "code",
      "source": [
        "print(df.isnull().sum()) # Identify the Missing values\n"
      ],
      "metadata": {
        "colab": {
          "base_uri": "https://localhost:8080/"
        },
        "id": "REGaFf9nBoUV",
        "outputId": "97e5e1f0-bcba-43ac-b34e-de79774d3701"
      },
      "execution_count": 11,
      "outputs": [
        {
          "output_type": "stream",
          "name": "stdout",
          "text": [
            "run_date        0\n",
            "dut             0\n",
            "suite           0\n",
            "filename        0\n",
            "line_number     0\n",
            "timestamp       0\n",
            "test_case_id    0\n",
            "status          0\n",
            "error_msg       0\n",
            "config          0\n",
            "raw_line        0\n",
            "os_version      0\n",
            "dtype: int64\n"
          ]
        }
      ]
    },
    {
      "cell_type": "markdown",
      "source": [
        "##**Coverage,Missing Values, and Duplicate Values**\n",
        "\n",
        "---\n",
        "####This code generates a detailed missing values report for a DataFrame by counting the number and percentage of missing entries in each column. It shows which columns have missing data and to what extent, helping identify where data cleaning or imputation is needed.\n"
      ],
      "metadata": {
        "id": "spgQ3Npv3eOL"
      }
    },
    {
      "cell_type": "code",
      "source": [
        "# Calculate the count of missing (NA) values per column\n",
        "missing_report = df.isna().sum().reset_index()\n",
        "\n",
        "# Rename columns for clear display: 'Column' for column names, 'Missing_Count' for missing value counts\n",
        "missing_report.columns = [\"Column\",\"Missing_Count\"]\n",
        "\n",
        "# Calculate the percentage of missing values relative to total rows for each column\n",
        "missing_report[\"Missing_%\"] = (missing_report[\"Missing_Count\"] / len(df)) * 100\n",
        "\n",
        "# Print a report sorted by descending missing percentage to highlight worst columns first\n",
        "print(\"\\nMissing Values Report:\")\n",
        "print(missing_report.sort_values(\"Missing_%\", ascending=False))\n"
      ],
      "metadata": {
        "colab": {
          "base_uri": "https://localhost:8080/"
        },
        "id": "cHgxLe5QhciE",
        "outputId": "bf39b529-6766-4541-fcd4-cbdbf3ddd650"
      },
      "execution_count": 12,
      "outputs": [
        {
          "output_type": "stream",
          "name": "stdout",
          "text": [
            "\n",
            "Missing Values Report:\n",
            "          Column  Missing_Count  Missing_%\n",
            "0       run_date              0        0.0\n",
            "1            dut              0        0.0\n",
            "2          suite              0        0.0\n",
            "3       filename              0        0.0\n",
            "4    line_number              0        0.0\n",
            "5      timestamp              0        0.0\n",
            "6   test_case_id              0        0.0\n",
            "7         status              0        0.0\n",
            "8      error_msg              0        0.0\n",
            "9         config              0        0.0\n",
            "10      raw_line              0        0.0\n",
            "11    os_version              0        0.0\n"
          ]
        }
      ]
    },
    {
      "cell_type": "code",
      "source": [
        "# Count the number of duplicate rows in the DataFrame\n",
        "duplicate_count = df.duplicated().sum()\n",
        "\n",
        "# Print the total count of duplicate rows found\n",
        "print(f\"\\nDuplicate Rows: {duplicate_count}\")\n"
      ],
      "metadata": {
        "colab": {
          "base_uri": "https://localhost:8080/"
        },
        "id": "ZI5myjHvhfvr",
        "outputId": "ba22e38b-cce2-4864-a092-369f2c228337"
      },
      "execution_count": 13,
      "outputs": [
        {
          "output_type": "stream",
          "name": "stdout",
          "text": [
            "\n",
            "Duplicate Rows: 0\n"
          ]
        }
      ]
    },
    {
      "cell_type": "markdown",
      "source": [
        "####This code calculates data coverage per column in the DataFrame by counting non-missing values and computing their percentage relative to the total rows. It then prints a report sorted by coverage percentage, helping identify columns with incomplete data coverage."
      ],
      "metadata": {
        "id": "ZByW867F4src"
      }
    },
    {
      "cell_type": "code",
      "source": [
        "# Create a new DataFrame summarizing columns, count of non-missing values, and coverage percentage\n",
        "coverage_report = pd.DataFrame({\n",
        "    \"Column\": df.columns,\n",
        "    \"NonNull_Count\": df.notna().sum(),\n",
        "    \"Coverage_%\": (df.notna().sum() / len(df)) * 100\n",
        "})\n",
        "\n",
        "# Print a heading for the coverage report\n",
        "print(\"\\nData Coverage:\")\n",
        "\n",
        "# Print the coverage report sorted by lowest coverage percentage first\n",
        "print(coverage_report.sort_values(\"Coverage_%\"))\n"
      ],
      "metadata": {
        "colab": {
          "base_uri": "https://localhost:8080/"
        },
        "id": "7_mF6a2YhjkD",
        "outputId": "6f42fa7b-c3e1-475d-886a-8bd2cd2ed035"
      },
      "execution_count": 14,
      "outputs": [
        {
          "output_type": "stream",
          "name": "stdout",
          "text": [
            "\n",
            "Data Coverage:\n",
            "                    Column  NonNull_Count  Coverage_%\n",
            "run_date          run_date         124684       100.0\n",
            "dut                    dut         124684       100.0\n",
            "suite                suite         124684       100.0\n",
            "filename          filename         124684       100.0\n",
            "line_number    line_number         124684       100.0\n",
            "timestamp        timestamp         124684       100.0\n",
            "test_case_id  test_case_id         124684       100.0\n",
            "status              status         124684       100.0\n",
            "error_msg        error_msg         124684       100.0\n",
            "config              config         124684       100.0\n",
            "raw_line          raw_line         124684       100.0\n",
            "os_version      os_version         124684       100.0\n"
          ]
        }
      ]
    },
    {
      "cell_type": "markdown",
      "source": [
        "## **Critical Fields**\n",
        "\n",
        "---\n",
        "\n",
        "####This code filters the coverage report to focus only on a set of critical columns important for machine learning readiness. It then prints the coverage details for these selected critical fields, helping quickly assess their data completeness."
      ],
      "metadata": {
        "id": "bSGQFJpL5NF1"
      }
    },
    {
      "cell_type": "code",
      "source": [
        "# Define a list of critical columns needed for ML or core analysis\n",
        "critical_fields = [\"test_case_id\", \"dut\", \"suite\", \"config\", \"error_msg\", \"status\", \"run_date\", \"timestamp\"]\n",
        "\n",
        "# Filter the coverage report DataFrame to include only these critical columns\n",
        "critical_report = coverage_report[coverage_report[\"Column\"].isin(critical_fields)]\n",
        "\n",
        "# Print the coverage details for the critical fields\n",
        "print(\"\\nCritical Fields Coverage (ML readiness):\")\n",
        "print(critical_report)\n"
      ],
      "metadata": {
        "colab": {
          "base_uri": "https://localhost:8080/"
        },
        "id": "04HUX7C-hno9",
        "outputId": "1845f490-34b5-48e8-cbdf-8c32fe1f1c19"
      },
      "execution_count": 15,
      "outputs": [
        {
          "output_type": "stream",
          "name": "stdout",
          "text": [
            "\n",
            "Critical Fields Coverage (ML readiness):\n",
            "                    Column  NonNull_Count  Coverage_%\n",
            "run_date          run_date         124684       100.0\n",
            "dut                    dut         124684       100.0\n",
            "suite                suite         124684       100.0\n",
            "timestamp        timestamp         124684       100.0\n",
            "test_case_id  test_case_id         124684       100.0\n",
            "status              status         124684       100.0\n",
            "error_msg        error_msg         124684       100.0\n",
            "config              config         124684       100.0\n"
          ]
        }
      ]
    },
    {
      "cell_type": "markdown",
      "source": [
        "##**Identify Gaps**\n",
        "\n",
        "---\n",
        "#### This code checks for potential data quality issues and prints warnings about key areas that need attention. It highlights missing values in important columns such as DUT version, OS version, and error messages, and warns if duplicate rows are present. The final print statement marks the completion of the profiling step.\n"
      ],
      "metadata": {
        "id": "jWMAB9gs5oxo"
      }
    },
    {
      "cell_type": "code",
      "source": [
        "# Print header for missing data and quality gaps report\n",
        "print(\"\\nPotential Gaps to Fix:\")\n",
        "\n",
        "# Check if 'dut_version' column exists and has missing values, warn about its reliability\n",
        "if \"dut_version\" in df.columns:\n",
        "    print(\"- DUT Version has missing values → may not be reliable for ML.\")\n",
        "\n",
        "# Check if 'os_version' exists and has missing values, print count needing better extraction\n",
        "if \"os_version\" in df.columns and df[\"os_version\"].isna().sum() > 0:\n",
        "    print(f\"- OS Version missing in {df['os_version'].isna().sum()} rows → need better extraction.\")\n",
        "\n",
        "# Warn if any logs have missing error messages\n",
        "if df[\"error_msg\"].isna().sum() > 0:\n",
        "    print(\"- Some logs have no error messages.\")\n",
        "\n",
        "# Warn if any duplicate rows exist in dataset\n",
        "if duplicate_count > 0:\n",
        "    print(\"- Dataset has duplicate rows, consider removing them.\")\n",
        "\n",
        "# Indicate profiling process is complete\n",
        "print(\"\\nProfiling Complete.\")\n"
      ],
      "metadata": {
        "id": "bbtBqzWtiVvi",
        "colab": {
          "base_uri": "https://localhost:8080/"
        },
        "outputId": "41761556-e848-41c5-f2f2-01a1a2229345"
      },
      "execution_count": 17,
      "outputs": [
        {
          "output_type": "stream",
          "name": "stdout",
          "text": [
            "\n",
            "Potential Gaps to Fix:\n",
            "\n",
            "Profiling Complete.\n"
          ]
        }
      ]
    },
    {
      "cell_type": "code",
      "source": [],
      "metadata": {
        "id": "-kWasg3b6TqZ"
      },
      "execution_count": null,
      "outputs": []
    }
  ]
}